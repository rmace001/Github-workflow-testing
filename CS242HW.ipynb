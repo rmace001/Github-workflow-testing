{
  "nbformat": 4,
  "nbformat_minor": 0,
  "metadata": {
    "colab": {
      "name": "CS242HW.ipynb",
      "provenance": [],
      "authorship_tag": "ABX9TyOXuOB+gBLAwKVsZ65gDIoq",
      "include_colab_link": true
    },
    "kernelspec": {
      "name": "python3",
      "display_name": "Python 3"
    }
  },
  "cells": [
    {
      "cell_type": "markdown",
      "metadata": {
        "id": "view-in-github",
        "colab_type": "text"
      },
      "source": [
        "<a href=\"https://colab.research.google.com/github/rmace001/Github-workflow-testing/blob/master/CS242HW.ipynb\" target=\"_parent\"><img src=\"https://colab.research.google.com/assets/colab-badge.svg\" alt=\"Open In Colab\"/></a>"
      ]
    },
    {
      "cell_type": "code",
      "metadata": {
        "id": "iq8G3atuklrc"
      },
      "source": [
        "import math\n",
        "import numpy as np"
      ],
      "execution_count": 2,
      "outputs": []
    },
    {
      "cell_type": "markdown",
      "metadata": {
        "id": "TVMs9luyl24e"
      },
      "source": [
        "# Exercise A"
      ]
    },
    {
      "cell_type": "code",
      "metadata": {
        "colab": {
          "base_uri": "https://localhost:8080/",
          "height": 0
        },
        "id": "hTyfrGF3kaY-",
        "outputId": "05fcbfa7-9fbf-4504-9b17-e0dd04fb292a"
      },
      "source": [
        "####################################################\n",
        "# Homework for CS242\n",
        "# Author: Rogelio Macedo\n",
        "# UCR Department of Computer Science and Engineering\n",
        "# CS 242 Information Retrieval\n",
        "####################################################\n",
        "\n",
        "# BM25 \n",
        "# Using assumptions from class\n",
        "# Assuming univeristy and University is counted equally\n",
        "\n",
        "N = 1000\n",
        "r_i = 0\n",
        "R = 0\n",
        "k1 = 1.2\n",
        "k2 = 100\n",
        "b = .75\n",
        "dl_adl = 1\n",
        "K = k1*(1-b) + b * dl_adl\n",
        "\n",
        "def scoring(f_i, qf_i, n_i):\n",
        "\n",
        "  inner = \\\n",
        "  ((r_i + .5)/(R - r_i + .5)) / ((n_i - r_i + .5)/(N - n_i - R + r_i + .5))\n",
        "  \n",
        "  inner = math.log(inner, 2)\n",
        "  inner *= (((k1 + 1)*f_i)/(K + f_i)) * (((k2 + 1) * qf_i) / (k2 + qf_i))\n",
        "  return inner\n",
        "\n",
        "\n",
        "# Q1: university Riverside\n",
        "s = 0\n",
        "nis = [200, 100]\n",
        "f1 = [4, 1]\n",
        "qf = [1, 1]\n",
        "for i in range(len(f1)):\n",
        "  s += scoring(f_i=f1[i], qf_i=qf[i], n_i=nis[i])\n",
        "print('Q1 Score: {0}'.format(s))\n",
        "\n",
        "# Q2: diverse university\n",
        "s = 0\n",
        "nis = [150, 200]\n",
        "f2 = [1, 4]\n",
        "qf = [1, 1]\n",
        "for i in range(len(f2)):\n",
        "  s += scoring(f_i=f2[i], qf_i=qf[i], n_i=nis[i])\n",
        "print('Q2 Score: {0}'.format(s))\n"
      ],
      "execution_count": 3,
      "outputs": [
        {
          "output_type": "stream",
          "text": [
            "Q1 Score: 6.875450747449154\n",
            "Q2 Score: 6.161810427053025\n"
          ],
          "name": "stdout"
        }
      ]
    },
    {
      "cell_type": "code",
      "metadata": {
        "colab": {
          "base_uri": "https://localhost:8080/",
          "height": 0
        },
        "id": "d7tc9wLUkpxT",
        "outputId": "7aeaae31-7512-4f3a-c573-0cdc37a1749c"
      },
      "source": [
        "# Unigram LM with JM Smoothing\n",
        "# Only take the product and not the log of the product\n",
        "\n",
        "lamb = 0.1\n",
        "D = 40\n",
        "C = 1000\n",
        "\n",
        "def pr(fqd, fqc):\n",
        "  return (1-lamb) * (fqd/D) + lamb * (fqc/C)\n",
        "\n",
        "# Q1: university Riverside\n",
        "fQ = [1, 1]\n",
        "fC = [200, 100]\n",
        "p = 1\n",
        "\n",
        "for i in range(len(fQ)):\n",
        "  p *= pr(fqd=fQ[i], fqc=fC[i])\n",
        "print('Q1 Score: {0}'.format(p))\n",
        "\n",
        "# Q2: diverse university\n",
        "fQ = [1, 1]\n",
        "fC = [150, 200]\n",
        "p = 1\n",
        "\n",
        "for i in range(len(fQ)):\n",
        "  p *= pr(fqd=fQ[i], fqc=fC[i])\n",
        "print('Q2 Score: {0}'.format(p))"
      ],
      "execution_count": 4,
      "outputs": [
        {
          "output_type": "stream",
          "text": [
            "Q1 Score: 0.0013812500000000003\n",
            "Q2 Score: 0.0015937500000000005\n"
          ],
          "name": "stdout"
        }
      ]
    },
    {
      "cell_type": "markdown",
      "metadata": {
        "id": "MxB78QTZl6E7"
      },
      "source": [
        "# Exercise B"
      ]
    },
    {
      "cell_type": "code",
      "metadata": {
        "colab": {
          "base_uri": "https://localhost:8080/",
          "height": 0
        },
        "id": "HtcPSZFIktjA",
        "outputId": "7417baf3-0897-4178-80e1-f16e780e7785"
      },
      "source": [
        "# PageRank\n",
        "\n",
        "# numpy things\n",
        "float_formatter = \"{:.2f}\".format\n",
        "np.set_printoptions(formatter={'float_kind':float_formatter})\n",
        "# Damping Factor\n",
        "d = .85\n",
        "\n",
        "# Number of pages\n",
        "N = 5\n",
        "\n",
        "# Convergence Threshold\n",
        "threshold = .0001\n",
        "print(\"Constants defined.\")\n",
        "# PageRank\n",
        "def pageRank(matrix, Y, B):\n",
        "  return np.dot(d * matrix, Y) + (1-d)*B\n",
        "\n",
        "\n",
        "# Outgoing links\n",
        "out = {i: list() for i in range(1, N+1)}\n",
        "\n",
        "out[1] = [2]\n",
        "out[2] = [3, 5]\n",
        "out[3] = [1]\n",
        "out[4] = [5]\n",
        "out[5] = [5]\n",
        "\n",
        "print('Outgoing links have been set.')\n",
        "print(out)\n",
        "\n",
        "M = np.zeros((N, N))\n",
        "yfinal = np.array([1, 1, 1, 1, 1])\n",
        "yfinal = yfinal.T\n",
        "\n",
        "for i in range(1, N+1):\n",
        "  for j in out[i]:\n",
        "    M[j-1, i-1] = 1/len(out[i])\n",
        "\n",
        "b = np.full((5,), 1/5)\n",
        "\n",
        "print(\"Matrix M, and vectors Y and B have been initialized.\\n\")\n",
        "print('M: ')\n",
        "print(M)\n",
        "print('Y: ', yfinal)\n",
        "print('B: ', b)\n",
        "\n",
        "print('\\nRunning iterations...')\n",
        "iterations = 0\n",
        "diff = abs(yfinal - np.zeros((5,)))\n",
        "check = (diff < threshold).all()\n",
        "while(not check):\n",
        "  print('Iteration {0}'.format(iterations))\n",
        "  ytemp = pageRank(matrix=M, Y=yfinal, B=b)\n",
        "  diff = abs(yfinal - ytemp)\n",
        "  check = (diff < threshold).all()\n",
        "  yfinal = ytemp\n",
        "  print('Current Y: ', yfinal)\n",
        "  print('Pagewise PR difference from last iteration: ', diff)\n",
        "  iterations += 1\n",
        "  print('\\n')\n",
        "\n",
        "print('Iterations done! Number of iterations with threshold of 0.0001: {0}'\n",
        "  .format(iterations))"
      ],
      "execution_count": 5,
      "outputs": [
        {
          "output_type": "stream",
          "text": [
            "Constants defined.\n",
            "Outgoing links have been set.\n",
            "{1: [2], 2: [3, 5], 3: [1], 4: [5], 5: [5]}\n",
            "Matrix M, and vectors Y and B have been initialized.\n",
            "\n",
            "M: \n",
            "[[0.00 0.00 1.00 0.00 0.00]\n",
            " [1.00 0.00 0.00 0.00 0.00]\n",
            " [0.00 0.50 0.00 0.00 0.00]\n",
            " [0.00 0.00 0.00 0.00 0.00]\n",
            " [0.00 0.50 0.00 1.00 1.00]]\n",
            "Y:  [1 1 1 1 1]\n",
            "B:  [0.20 0.20 0.20 0.20 0.20]\n",
            "\n",
            "Running iterations...\n",
            "Iteration 0\n",
            "Current Y:  [0.88 0.88 0.46 0.03 2.15]\n",
            "Pagewise PR difference from last iteration:  [0.12 0.12 0.54 0.97 1.15]\n",
            "\n",
            "\n",
            "Iteration 1\n",
            "Current Y:  [0.42 0.78 0.40 0.03 2.26]\n",
            "Pagewise PR difference from last iteration:  [0.46 0.10 0.05 0.00 0.11]\n",
            "\n",
            "\n",
            "Iteration 2\n",
            "Current Y:  [0.37 0.38 0.36 0.03 2.31]\n",
            "Pagewise PR difference from last iteration:  [0.04 0.39 0.04 0.00 0.05]\n",
            "\n",
            "\n",
            "Iteration 3\n",
            "Current Y:  [0.34 0.35 0.19 0.03 2.18]\n",
            "Pagewise PR difference from last iteration:  [0.04 0.04 0.17 0.00 0.13]\n",
            "\n",
            "\n",
            "Iteration 4\n",
            "Current Y:  [0.19 0.32 0.18 0.03 2.06]\n",
            "Pagewise PR difference from last iteration:  [0.14 0.03 0.02 0.00 0.12]\n",
            "\n",
            "\n",
            "Iteration 5\n",
            "Current Y:  [0.18 0.20 0.16 0.03 1.94]\n",
            "Pagewise PR difference from last iteration:  [0.01 0.12 0.01 0.00 0.12]\n",
            "\n",
            "\n",
            "Iteration 6\n",
            "Current Y:  [0.17 0.18 0.11 0.03 1.79]\n",
            "Pagewise PR difference from last iteration:  [0.01 0.01 0.05 0.00 0.15]\n",
            "\n",
            "\n",
            "Iteration 7\n",
            "Current Y:  [0.13 0.17 0.11 0.03 1.65]\n",
            "Pagewise PR difference from last iteration:  [0.04 0.01 0.00 0.00 0.13]\n",
            "\n",
            "\n",
            "Iteration 8\n",
            "Current Y:  [0.12 0.14 0.10 0.03 1.53]\n",
            "Pagewise PR difference from last iteration:  [0.00 0.04 0.00 0.00 0.12]\n",
            "\n",
            "\n",
            "Iteration 9\n",
            "Current Y:  [0.12 0.13 0.09 0.03 1.42]\n",
            "Pagewise PR difference from last iteration:  [0.00 0.00 0.02 0.00 0.12]\n",
            "\n",
            "\n",
            "Iteration 10\n",
            "Current Y:  [0.11 0.13 0.09 0.03 1.32]\n",
            "Pagewise PR difference from last iteration:  [0.01 0.00 0.00 0.00 0.10]\n",
            "\n",
            "\n",
            "Iteration 11\n",
            "Current Y:  [0.10 0.12 0.09 0.03 1.23]\n",
            "Pagewise PR difference from last iteration:  [0.00 0.01 0.00 0.00 0.09]\n",
            "\n",
            "\n",
            "Iteration 12\n",
            "Current Y:  [0.10 0.12 0.08 0.03 1.15]\n",
            "Pagewise PR difference from last iteration:  [0.00 0.00 0.00 0.00 0.08]\n",
            "\n",
            "\n",
            "Iteration 13\n",
            "Current Y:  [0.10 0.12 0.08 0.03 1.08]\n",
            "Pagewise PR difference from last iteration:  [0.00 0.00 0.00 0.00 0.07]\n",
            "\n",
            "\n",
            "Iteration 14\n",
            "Current Y:  [0.10 0.11 0.08 0.03 1.03]\n",
            "Pagewise PR difference from last iteration:  [0.00 0.00 0.00 0.00 0.06]\n",
            "\n",
            "\n",
            "Iteration 15\n",
            "Current Y:  [0.10 0.11 0.08 0.03 0.98]\n",
            "Pagewise PR difference from last iteration:  [0.00 0.00 0.00 0.00 0.05]\n",
            "\n",
            "\n",
            "Iteration 16\n",
            "Current Y:  [0.10 0.11 0.08 0.03 0.93]\n",
            "Pagewise PR difference from last iteration:  [0.00 0.00 0.00 0.00 0.04]\n",
            "\n",
            "\n",
            "Iteration 17\n",
            "Current Y:  [0.10 0.11 0.08 0.03 0.90]\n",
            "Pagewise PR difference from last iteration:  [0.00 0.00 0.00 0.00 0.04]\n",
            "\n",
            "\n",
            "Iteration 18\n",
            "Current Y:  [0.10 0.11 0.08 0.03 0.87]\n",
            "Pagewise PR difference from last iteration:  [0.00 0.00 0.00 0.00 0.03]\n",
            "\n",
            "\n",
            "Iteration 19\n",
            "Current Y:  [0.10 0.11 0.08 0.03 0.84]\n",
            "Pagewise PR difference from last iteration:  [0.00 0.00 0.00 0.00 0.03]\n",
            "\n",
            "\n",
            "Iteration 20\n",
            "Current Y:  [0.10 0.11 0.08 0.03 0.82]\n",
            "Pagewise PR difference from last iteration:  [0.00 0.00 0.00 0.00 0.02]\n",
            "\n",
            "\n",
            "Iteration 21\n",
            "Current Y:  [0.10 0.11 0.08 0.03 0.80]\n",
            "Pagewise PR difference from last iteration:  [0.00 0.00 0.00 0.00 0.02]\n",
            "\n",
            "\n",
            "Iteration 22\n",
            "Current Y:  [0.10 0.11 0.08 0.03 0.78]\n",
            "Pagewise PR difference from last iteration:  [0.00 0.00 0.00 0.00 0.02]\n",
            "\n",
            "\n",
            "Iteration 23\n",
            "Current Y:  [0.10 0.11 0.08 0.03 0.77]\n",
            "Pagewise PR difference from last iteration:  [0.00 0.00 0.00 0.00 0.01]\n",
            "\n",
            "\n",
            "Iteration 24\n",
            "Current Y:  [0.10 0.11 0.08 0.03 0.75]\n",
            "Pagewise PR difference from last iteration:  [0.00 0.00 0.00 0.00 0.01]\n",
            "\n",
            "\n",
            "Iteration 25\n",
            "Current Y:  [0.10 0.11 0.08 0.03 0.74]\n",
            "Pagewise PR difference from last iteration:  [0.00 0.00 0.00 0.00 0.01]\n",
            "\n",
            "\n",
            "Iteration 26\n",
            "Current Y:  [0.10 0.11 0.08 0.03 0.74]\n",
            "Pagewise PR difference from last iteration:  [0.00 0.00 0.00 0.00 0.01]\n",
            "\n",
            "\n",
            "Iteration 27\n",
            "Current Y:  [0.10 0.11 0.08 0.03 0.73]\n",
            "Pagewise PR difference from last iteration:  [0.00 0.00 0.00 0.00 0.01]\n",
            "\n",
            "\n",
            "Iteration 28\n",
            "Current Y:  [0.10 0.11 0.08 0.03 0.72]\n",
            "Pagewise PR difference from last iteration:  [0.00 0.00 0.00 0.00 0.01]\n",
            "\n",
            "\n",
            "Iteration 29\n",
            "Current Y:  [0.10 0.11 0.08 0.03 0.72]\n",
            "Pagewise PR difference from last iteration:  [0.00 0.00 0.00 0.00 0.01]\n",
            "\n",
            "\n",
            "Iteration 30\n",
            "Current Y:  [0.10 0.11 0.08 0.03 0.71]\n",
            "Pagewise PR difference from last iteration:  [0.00 0.00 0.00 0.00 0.00]\n",
            "\n",
            "\n",
            "Iteration 31\n",
            "Current Y:  [0.10 0.11 0.08 0.03 0.71]\n",
            "Pagewise PR difference from last iteration:  [0.00 0.00 0.00 0.00 0.00]\n",
            "\n",
            "\n",
            "Iteration 32\n",
            "Current Y:  [0.10 0.11 0.08 0.03 0.70]\n",
            "Pagewise PR difference from last iteration:  [0.00 0.00 0.00 0.00 0.00]\n",
            "\n",
            "\n",
            "Iteration 33\n",
            "Current Y:  [0.10 0.11 0.08 0.03 0.70]\n",
            "Pagewise PR difference from last iteration:  [0.00 0.00 0.00 0.00 0.00]\n",
            "\n",
            "\n",
            "Iteration 34\n",
            "Current Y:  [0.10 0.11 0.08 0.03 0.70]\n",
            "Pagewise PR difference from last iteration:  [0.00 0.00 0.00 0.00 0.00]\n",
            "\n",
            "\n",
            "Iteration 35\n",
            "Current Y:  [0.10 0.11 0.08 0.03 0.70]\n",
            "Pagewise PR difference from last iteration:  [0.00 0.00 0.00 0.00 0.00]\n",
            "\n",
            "\n",
            "Iteration 36\n",
            "Current Y:  [0.10 0.11 0.08 0.03 0.70]\n",
            "Pagewise PR difference from last iteration:  [0.00 0.00 0.00 0.00 0.00]\n",
            "\n",
            "\n",
            "Iteration 37\n",
            "Current Y:  [0.10 0.11 0.08 0.03 0.69]\n",
            "Pagewise PR difference from last iteration:  [0.00 0.00 0.00 0.00 0.00]\n",
            "\n",
            "\n",
            "Iteration 38\n",
            "Current Y:  [0.10 0.11 0.08 0.03 0.69]\n",
            "Pagewise PR difference from last iteration:  [0.00 0.00 0.00 0.00 0.00]\n",
            "\n",
            "\n",
            "Iteration 39\n",
            "Current Y:  [0.10 0.11 0.08 0.03 0.69]\n",
            "Pagewise PR difference from last iteration:  [0.00 0.00 0.00 0.00 0.00]\n",
            "\n",
            "\n",
            "Iteration 40\n",
            "Current Y:  [0.10 0.11 0.08 0.03 0.69]\n",
            "Pagewise PR difference from last iteration:  [0.00 0.00 0.00 0.00 0.00]\n",
            "\n",
            "\n",
            "Iteration 41\n",
            "Current Y:  [0.10 0.11 0.08 0.03 0.69]\n",
            "Pagewise PR difference from last iteration:  [0.00 0.00 0.00 0.00 0.00]\n",
            "\n",
            "\n",
            "Iteration 42\n",
            "Current Y:  [0.10 0.11 0.08 0.03 0.69]\n",
            "Pagewise PR difference from last iteration:  [0.00 0.00 0.00 0.00 0.00]\n",
            "\n",
            "\n",
            "Iteration 43\n",
            "Current Y:  [0.10 0.11 0.08 0.03 0.69]\n",
            "Pagewise PR difference from last iteration:  [0.00 0.00 0.00 0.00 0.00]\n",
            "\n",
            "\n",
            "Iteration 44\n",
            "Current Y:  [0.10 0.11 0.08 0.03 0.69]\n",
            "Pagewise PR difference from last iteration:  [0.00 0.00 0.00 0.00 0.00]\n",
            "\n",
            "\n",
            "Iteration 45\n",
            "Current Y:  [0.10 0.11 0.08 0.03 0.69]\n",
            "Pagewise PR difference from last iteration:  [0.00 0.00 0.00 0.00 0.00]\n",
            "\n",
            "\n",
            "Iteration 46\n",
            "Current Y:  [0.10 0.11 0.08 0.03 0.69]\n",
            "Pagewise PR difference from last iteration:  [0.00 0.00 0.00 0.00 0.00]\n",
            "\n",
            "\n",
            "Iteration 47\n",
            "Current Y:  [0.10 0.11 0.08 0.03 0.69]\n",
            "Pagewise PR difference from last iteration:  [0.00 0.00 0.00 0.00 0.00]\n",
            "\n",
            "\n",
            "Iteration 48\n",
            "Current Y:  [0.10 0.11 0.08 0.03 0.69]\n",
            "Pagewise PR difference from last iteration:  [0.00 0.00 0.00 0.00 0.00]\n",
            "\n",
            "\n",
            "Iteration 49\n",
            "Current Y:  [0.10 0.11 0.08 0.03 0.69]\n",
            "Pagewise PR difference from last iteration:  [0.00 0.00 0.00 0.00 0.00]\n",
            "\n",
            "\n",
            "Iteration 50\n",
            "Current Y:  [0.10 0.11 0.08 0.03 0.69]\n",
            "Pagewise PR difference from last iteration:  [0.00 0.00 0.00 0.00 0.00]\n",
            "\n",
            "\n",
            "Iteration 51\n",
            "Current Y:  [0.10 0.11 0.08 0.03 0.69]\n",
            "Pagewise PR difference from last iteration:  [0.00 0.00 0.00 0.00 0.00]\n",
            "\n",
            "\n",
            "Iteration 52\n",
            "Current Y:  [0.10 0.11 0.08 0.03 0.69]\n",
            "Pagewise PR difference from last iteration:  [0.00 0.00 0.00 0.00 0.00]\n",
            "\n",
            "\n",
            "Iteration 53\n",
            "Current Y:  [0.10 0.11 0.08 0.03 0.69]\n",
            "Pagewise PR difference from last iteration:  [0.00 0.00 0.00 0.00 0.00]\n",
            "\n",
            "\n",
            "Iteration 54\n",
            "Current Y:  [0.10 0.11 0.08 0.03 0.69]\n",
            "Pagewise PR difference from last iteration:  [0.00 0.00 0.00 0.00 0.00]\n",
            "\n",
            "\n",
            "Iterations done! Number of iterations with threshold of 0.0001: 55\n"
          ],
          "name": "stdout"
        }
      ]
    },
    {
      "cell_type": "markdown",
      "metadata": {
        "id": "cOv3IVapl-qo"
      },
      "source": [
        "# Exercise C"
      ]
    },
    {
      "cell_type": "markdown",
      "metadata": {
        "id": "lKh48xy0kz-n"
      },
      "source": [
        "# Map \n",
        "## Input\n",
        "Collection of input documents\n",
        "\n",
        "## Emits:\n",
        "Key value pair for every document that contains the `Pair`:\n",
        "  - Key: `Pair(keyword1, keyword2)`\n",
        "  - Value: 1\n",
        "\n",
        "## Combiner\n",
        "Groups together a list for each unique `Pair(keyword1, keyword2)`\n",
        "\n",
        "\n",
        "# Reduce\n",
        "## Input\n",
        "Key value pair: \n",
        "  - Key: `Pair(keyword1, keyword2)`\n",
        "  - Value: List of all values for the particular `Pair(keyword1, keyword2)`\n",
        "\n",
        "## Emits\n",
        "```\n",
        "If len(list) > 1000\n",
        "  emit(Pair(keyword1, keyword2), len(list))\n",
        "```"
      ]
    },
    {
      "cell_type": "markdown",
      "metadata": {
        "id": "JN-fIq25mDUM"
      },
      "source": [
        "# Exercise D"
      ]
    },
    {
      "cell_type": "code",
      "metadata": {
        "colab": {
          "base_uri": "https://localhost:8080/",
          "height": 0
        },
        "id": "evj9JGUAkxJ_",
        "outputId": "489e340b-6064-47a6-9a55-eea8606a52bf"
      },
      "source": [
        "results = [0, 0, 1, 1, 1, 0, 1, 1, 0]\n",
        "n = 5\n",
        "\n",
        "def Precision(A, B):\n",
        "  precision = len(set.intersection(set(A), set(B))) / len(B)\n",
        "  return precision\n",
        "\n",
        "def Recall(A, B):\n",
        "  recall = len(set.intersection(A, B)) / len(A)\n",
        "  return recall\n",
        "\n",
        "def PrecisionAtN(n, vals):\n",
        "  cnt = 0\n",
        "  for i in range(n):\n",
        "    if vals[i] == 1:\n",
        "      cnt += 1\n",
        "  return cnt/n\n",
        "\n",
        "def RecallAtN(n, vals, relC):\n",
        "  cnt = 0\n",
        "  for i in range(n):\n",
        "    if vals[i] == 1:\n",
        "      cnt += 1\n",
        "  return cnt/relC\n",
        "\n",
        "print('Precision at 5: {0}'.format(PrecisionAtN(n, results[:n])))\n",
        "print('Recall at 5: {0}'.format(RecallAtN(n, results[:n], 6)))"
      ],
      "execution_count": 6,
      "outputs": [
        {
          "output_type": "stream",
          "text": [
            "Precision at 5: 0.6\n",
            "Recall at 5: 0.5\n"
          ],
          "name": "stdout"
        }
      ]
    },
    {
      "cell_type": "code",
      "metadata": {
        "colab": {
          "base_uri": "https://localhost:8080/",
          "height": 0
        },
        "id": "hCa8Fljkk4Ff",
        "outputId": "2f98cc67-ec90-40f9-acee-04775e913da9"
      },
      "source": [
        "# f Score\n",
        "\n",
        "beta = 0.5\n",
        "\n",
        "def FScore(R, P):\n",
        "  return (2 * R * P) / (R + P)\n",
        "\n",
        "def FScore2(R, P):\n",
        "  return (beta**2 + 1) * R * P / (R + (beta**2) * P)\n",
        "\n",
        "print('F-score at 5: {0}'.format(\n",
        "    FScore2(\n",
        "        RecallAtN(n, results[:n], 6),\n",
        "        PrecisionAtN(n, results[:n])\n",
        "    )\n",
        "  )\n",
        ")"
      ],
      "execution_count": 7,
      "outputs": [
        {
          "output_type": "stream",
          "text": [
            "F-score at 5: 0.5769230769230769\n"
          ],
          "name": "stdout"
        }
      ]
    },
    {
      "cell_type": "code",
      "metadata": {
        "colab": {
          "base_uri": "https://localhost:8080/",
          "height": 0
        },
        "id": "4Xv3QhP0k5ps",
        "outputId": "36cb4f7d-8d25-46ae-f74d-366488fbe0cb"
      },
      "source": [
        "# Avg Precision\n",
        "rels = results\n",
        "precisions = [PrecisionAtN(i+1, rels[:i+1]) for i in range(len(results))]\n",
        "nRel = 6\n",
        "sizes = []\n",
        "\n",
        "for i in range(len(results)):\n",
        "  if results[i] == 1:\n",
        "    sizes.append(i+1)\n",
        "\n",
        "s = 0\n",
        "\n",
        "for i in range(len(sizes)):\n",
        "  s += precisions[sizes[i]]\n",
        "\n",
        "print('Average precision at 5: {0}'.format(s/nRel))"
      ],
      "execution_count": 8,
      "outputs": [
        {
          "output_type": "stream",
          "text": [
            "Average precision at 5: 0.46342592592592596\n"
          ],
          "name": "stdout"
        }
      ]
    },
    {
      "cell_type": "code",
      "metadata": {
        "colab": {
          "base_uri": "https://localhost:8080/",
          "height": 0
        },
        "id": "j9jpBPDek7HE",
        "outputId": "56794fb0-937d-4464-b94c-ebddcdc9301d"
      },
      "source": [
        "# DCG\n",
        "s = 0\n",
        "at = 5\n",
        "rels = results[:at]\n",
        "i = 1\n",
        "\n",
        "for r_i in rels:\n",
        "  s += ((2**r_i) - 1) / math.log(1+i)\n",
        "  i += 1\n",
        "\n",
        "print('DCG at 5: {0}'.format(s))"
      ],
      "execution_count": 9,
      "outputs": [
        {
          "output_type": "stream",
          "text": [
            "DCG at 5: 1.9007930815553407\n"
          ],
          "name": "stdout"
        }
      ]
    },
    {
      "cell_type": "markdown",
      "metadata": {
        "id": "96WwXEtek98U"
      },
      "source": [
        "2. High precision is good for situations like mobile browsing/searching. High recall is good for search in medical databases of experiements/documents/papers/scientific research/etc."
      ]
    },
    {
      "cell_type": "code",
      "metadata": {
        "id": "PnA6NHUMlOvv"
      },
      "source": [
        ""
      ],
      "execution_count": null,
      "outputs": []
    }
  ]
}